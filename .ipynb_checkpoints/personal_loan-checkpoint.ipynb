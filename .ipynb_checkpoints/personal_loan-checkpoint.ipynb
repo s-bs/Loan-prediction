{
 "cells": [
  {
   "cell_type": "markdown",
   "id": "fdb11eba-b942-4823-9e10-0fe57ba2b0d1",
   "metadata": {},
   "source": [
    "1.Importing Library"
   ]
  },
  {
   "cell_type": "code",
   "execution_count": null,
   "id": "118c189f-3e4d-4e43-a0f3-acff7357e9a6",
   "metadata": {},
   "outputs": [],
   "source": [
    "import pandas as pd\n",
    "import numpy as np\n",
    "import seaborn as sns"
   ]
  },
  {
   "cell_type": "markdown",
   "id": "df7dbb98-504d-40d5-aa36-d476f3827cd7",
   "metadata": {},
   "source": [
    "2.Import data"
   ]
  },
  {
   "cell_type": "code",
   "execution_count": null,
   "id": "85f7f932-8930-4b4d-8f44-85d3a55c3739",
   "metadata": {},
   "outputs": [],
   "source": [
    "data = pd.read_excel('loan_data.xlsx')\n",
    "data.head(5)"
   ]
  },
  {
   "cell_type": "markdown",
   "id": "c7eebbc5-1c13-4b6a-ab4f-88fc031ad026",
   "metadata": {},
   "source": [
    "3.DATA INFORMATION"
   ]
  },
  {
   "cell_type": "code",
   "execution_count": null,
   "id": "27d33f74-9acf-44ef-9eac-2d6736c33d24",
   "metadata": {
    "scrolled": true
   },
   "outputs": [],
   "source": [
    "data.dtypes"
   ]
  },
  {
   "cell_type": "code",
   "execution_count": null,
   "id": "09cd447c-cefe-4626-893c-f1091df372b9",
   "metadata": {},
   "outputs": [],
   "source": [
    "data.describe()"
   ]
  },
  {
   "cell_type": "code",
   "execution_count": null,
   "id": "6b651bd9-c65e-4834-862f-b5cd956e5308",
   "metadata": {},
   "outputs": [],
   "source": [
    "data.info()"
   ]
  },
  {
   "cell_type": "markdown",
   "id": "a96fcae6-71c6-4db2-b1ca-ded2fc646994",
   "metadata": {},
   "source": [
    "4.Null value handaling"
   ]
  },
  {
   "cell_type": "code",
   "execution_count": null,
   "id": "eac7d76e-3499-40b5-a8f5-a3a55e0dff4e",
   "metadata": {},
   "outputs": [],
   "source": [
    "data.isnull().sum()*100/len(data)"
   ]
  },
  {
   "cell_type": "code",
   "execution_count": null,
   "id": "d9ba670b-739d-4196-a921-a4dbf19b54f2",
   "metadata": {},
   "outputs": [],
   "source": [
    "columns_array = np.array(data.columns)\n",
    "\n",
    "for c in columns_array:\n",
    "    uniq= data[c].unique()\n",
    "    print(c,uniq)"
   ]
  },
  {
   "cell_type": "code",
   "execution_count": null,
   "id": "c17a2ee4-988e-41f3-acd2-903ff0eb5479",
   "metadata": {},
   "outputs": [],
   "source": [
    "data.dropna(subset=['Income','Online'],inplace=True,axis=0)\n",
    "data.reset_index(drop=True,inplace=True)"
   ]
  },
  {
   "cell_type": "code",
   "execution_count": null,
   "id": "d1d6afb6-e103-46c5-9b6e-b533365ddf1c",
   "metadata": {},
   "outputs": [],
   "source": [
    "data.isnull().sum()*100/len(data)"
   ]
  },
  {
   "cell_type": "code",
   "execution_count": null,
   "id": "55d672c1-6fc4-4e0f-9f16-51a211e3d0b0",
   "metadata": {},
   "outputs": [],
   "source": [
    "columns_array = np.array(data.columns)\n",
    "\n",
    "for c in columns_array:\n",
    "    uniq= data[c].unique()\n",
    "    print(c,uniq)"
   ]
  },
  {
   "cell_type": "code",
   "execution_count": null,
   "id": "2dbd38aa-fd18-41ac-aff7-8e2128cc0e87",
   "metadata": {},
   "outputs": [],
   "source": [
    "data['Gender'].describe()"
   ]
  },
  {
   "cell_type": "code",
   "execution_count": null,
   "id": "ac59a95e-bf4c-4a74-a2fa-23d228b6634e",
   "metadata": {},
   "outputs": [],
   "source": [
    "data['Gender'].value_counts()"
   ]
  },
  {
   "cell_type": "code",
   "execution_count": null,
   "id": "6690d5a0-d88f-4571-b68a-d5ea1a4b65d0",
   "metadata": {},
   "outputs": [],
   "source": [
    "data.replace(\"#\",np.nan,inplace=True)\n",
    "data.replace(\"-\",np.nan,inplace=True)"
   ]
  },
  {
   "cell_type": "code",
   "execution_count": null,
   "id": "31fe4834-ee54-41f0-9ac7-9568678a61fa",
   "metadata": {},
   "outputs": [],
   "source": [
    "data['Gender'].value_counts()"
   ]
  },
  {
   "cell_type": "code",
   "execution_count": null,
   "id": "ca11a1a1-7863-4d4a-b1f3-285051b27bce",
   "metadata": {},
   "outputs": [],
   "source": [
    "columns_array = np.array(data.columns)\n",
    "\n",
    "for c in columns_array:\n",
    "    uniq= data[c].unique()\n",
    "    print(c,uniq)"
   ]
  },
  {
   "cell_type": "code",
   "execution_count": null,
   "id": "3e7567ba-1a5b-41cc-8769-0003694be1c3",
   "metadata": {},
   "outputs": [],
   "source": [
    "data.isnull().sum()*100/len(data)"
   ]
  },
  {
   "cell_type": "code",
   "execution_count": null,
   "id": "920263e3-a071-4fd0-a593-3c8c1ff12a3f",
   "metadata": {},
   "outputs": [],
   "source": [
    "data['Personal Loan'].value_counts()"
   ]
  },
  {
   "cell_type": "code",
   "execution_count": null,
   "id": "0a580c2a-0b25-4d4c-a188-78ac224faa42",
   "metadata": {},
   "outputs": [],
   "source": [
    "data.replace(\" \",np.nan,inplace=True)"
   ]
  },
  {
   "cell_type": "code",
   "execution_count": null,
   "id": "154a0444-93cc-44c0-9730-2c3559b35ff8",
   "metadata": {},
   "outputs": [],
   "source": [
    "data['Personal Loan'].value_counts()"
   ]
  },
  {
   "cell_type": "code",
   "execution_count": null,
   "id": "9037af0f-fe71-407b-9a3f-ebc41c02fdbb",
   "metadata": {},
   "outputs": [],
   "source": [
    "data.isnull().sum()*100/len(data)"
   ]
  },
  {
   "cell_type": "code",
   "execution_count": null,
   "id": "8e7a4435-c14e-49a4-92fd-be2f0d2edbcd",
   "metadata": {},
   "outputs": [],
   "source": [
    "data.dropna(subset=['Personal Loan'],inplace=True,axis=0)\n",
    "data.reset_index(drop=True,inplace=True)"
   ]
  },
  {
   "cell_type": "code",
   "execution_count": null,
   "id": "ea094b91-67a0-4117-80b9-cda8562fcd47",
   "metadata": {},
   "outputs": [],
   "source": [
    "data.isnull().sum()*100/len(data)"
   ]
  },
  {
   "cell_type": "code",
   "execution_count": null,
   "id": "334e38fb-7fbf-4ce1-9fee-88b30bf01dab",
   "metadata": {},
   "outputs": [],
   "source": [
    "data['Gender'].mode()"
   ]
  },
  {
   "cell_type": "code",
   "execution_count": null,
   "id": "fc42bd7f-87bf-4e12-b932-a9064935c20c",
   "metadata": {},
   "outputs": [],
   "source": [
    "data['Home Ownership'].mode()"
   ]
  },
  {
   "cell_type": "code",
   "execution_count": null,
   "id": "7234a726-559e-489f-ab79-23585d01e21e",
   "metadata": {},
   "outputs": [],
   "source": [
    "from sklearn.impute import SimpleImputer\n",
    "gender_mode = SimpleImputer(missing_values=np.nan, strategy='most_frequent')\n",
    "data['Gender']=gender_mode.fit_transform(data[['Gender']])\n",
    "\n",
    "ownership_mode = SimpleImputer(missing_values=np.nan, strategy='most_frequent')\n",
    "data['Home Ownership']=gender_mode.fit_transform(data[['Home Ownership']])"
   ]
  },
  {
   "cell_type": "code",
   "execution_count": null,
   "id": "87eddee0-883a-498f-bd54-020900682dff",
   "metadata": {},
   "outputs": [],
   "source": [
    "data.isnull().sum()*100/len(data)"
   ]
  },
  {
   "cell_type": "code",
   "execution_count": null,
   "id": "174c3d71-9519-4016-aa76-f6c0802612c4",
   "metadata": {},
   "outputs": [],
   "source": [
    "data.head(5)"
   ]
  },
  {
   "cell_type": "markdown",
   "id": "67444cb4-dcbe-4ca1-a511-1e202132d060",
   "metadata": {},
   "source": [
    "Data Visualization outliers"
   ]
  },
  {
   "cell_type": "code",
   "execution_count": null,
   "id": "713d6c03-aa2c-44c1-8117-4160013cd0f2",
   "metadata": {},
   "outputs": [],
   "source": [
    "data"
   ]
  },
  {
   "cell_type": "code",
   "execution_count": null,
   "id": "953b197e-d87e-4102-942f-1773211f5594",
   "metadata": {},
   "outputs": [],
   "source": [
    "data.describe()"
   ]
  },
  {
   "cell_type": "code",
   "execution_count": null,
   "id": "cafb9397-d67f-40f8-bb59-deb3beb6b259",
   "metadata": {},
   "outputs": [],
   "source": [
    "sns.distplot(data['Age'])"
   ]
  },
  {
   "cell_type": "code",
   "execution_count": null,
   "id": "67eb3087-deb0-409c-93a4-10882aafbadb",
   "metadata": {},
   "outputs": [],
   "source": [
    "sns.boxplot(data['Age'])"
   ]
  },
  {
   "cell_type": "markdown",
   "id": "88e92d78-c659-4c67-acbd-dc2791a099d0",
   "metadata": {},
   "source": [
    "Z_SCORE"
   ]
  },
  {
   "cell_type": "code",
   "execution_count": null,
   "id": "3f9a2c34-5f24-45a8-8439-c717f012189c",
   "metadata": {},
   "outputs": [],
   "source": [
    "# find limits \n",
    "upper_limit =data['Age'].mean() + 3*data['Age'].std()\n",
    "lower_limit =data['Age'].mean() - 3*data['Age'].std()\n",
    "print('upper_limit:',upper_limit)\n",
    "print('lower_limit:',lower_limit)"
   ]
  },
  {
   "cell_type": "code",
   "execution_count": null,
   "id": "62cdd7c9-baa2-4bee-bb16-6622bbf74f19",
   "metadata": {},
   "outputs": [],
   "source": [
    "# find the outlier \n",
    "data.loc[(data['Age'] >upper_limit) | (data['Age'] < lower_limit)]"
   ]
  },
  {
   "cell_type": "code",
   "execution_count": null,
   "id": "ff325bd5-16bf-449c-989d-1ca2d6b8b0a7",
   "metadata": {},
   "outputs": [],
   "source": [
    "# trimm outliers \n",
    "new_data = data.loc[(data['Age'] < upper_limit) & (data['Age'] > lower_limit)]\n",
    "print('old_len',len(data))\n",
    "print('new_len',len(new_data))\n",
    "print('outliers no',len(data)-len(new_data))"
   ]
  },
  {
   "cell_type": "code",
   "execution_count": null,
   "id": "f26e0ab4-61c3-49e4-b95c-cf78e199c7d9",
   "metadata": {},
   "outputs": [],
   "source": [
    "# capping outlier \n",
    "new_data = data.copy()\n",
    "new_data.loc[(new_data['Age']>upper_limit),'Age'] = upper_limit\n",
    "new_data.loc[(new_data['Age']<lower_limit),'Age'] = upper_limit"
   ]
  },
  {
   "cell_type": "code",
   "execution_count": null,
   "id": "47fd49a6-9887-4cd2-91e3-eb2de0a23289",
   "metadata": {},
   "outputs": [],
   "source": [
    "sns.boxplot(new_data['Age'])"
   ]
  },
  {
   "cell_type": "markdown",
   "id": "5496d27b-cc42-40e7-ad75-1233cc04a65a",
   "metadata": {},
   "source": [
    "# quartile method "
   ]
  },
  {
   "cell_type": "code",
   "execution_count": null,
   "id": "bbd84b6d-2a1d-4384-9beb-c103c94230ba",
   "metadata": {},
   "outputs": [],
   "source": [
    "# quartiles\n",
    "q1=data['Age'].quantile(0.25)\n",
    "q3=data['Age'].quantile(0.75)\n",
    "iqr=q3-q1"
   ]
  },
  {
   "cell_type": "code",
   "execution_count": null,
   "id": "5ab1fee8-71a3-4133-bffb-f2d554504009",
   "metadata": {},
   "outputs": [],
   "source": [
    "q1,q3,iqr"
   ]
  },
  {
   "cell_type": "code",
   "execution_count": null,
   "id": "fa49197f-d0ea-4aca-b18b-53e618eb3fed",
   "metadata": {},
   "outputs": [],
   "source": [
    "# find limit \n",
    "upper_limit=q3 +(1.5 *iqr)\n",
    "lower_limit=q1 -(1.5 *iqr)\n",
    "upper_limit,lower_limit"
   ]
  },
  {
   "cell_type": "code",
   "execution_count": null,
   "id": "04caa366-9dfa-483f-8072-57597eeefd16",
   "metadata": {},
   "outputs": [],
   "source": [
    "sns.boxplot(data['Age'])"
   ]
  },
  {
   "cell_type": "code",
   "execution_count": null,
   "id": "6d4f1876-e30a-47cc-a988-e47065e7d13f",
   "metadata": {},
   "outputs": [],
   "source": [
    "# find the outlier \n",
    "data.loc[(data['Age'] >upper_limit) | (data['Age'] < lower_limit)]"
   ]
  },
  {
   "cell_type": "code",
   "execution_count": null,
   "id": "588fa4c2-1bf8-43ef-b7ff-1c4ed32f5a6b",
   "metadata": {},
   "outputs": [],
   "source": [
    "# trime outlier \n",
    "new_data = data.loc[(data['Age'] < upper_limit) & (data['Age'] > lower_limit)]\n",
    "print('old_len',len(data))\n",
    "print('new_len',len(new_data))\n",
    "print('outliers no',len(data)-len(new_data))"
   ]
  },
  {
   "cell_type": "code",
   "execution_count": null,
   "id": "2c94176a-bb51-4354-84bd-3ea0fa6ee6a5",
   "metadata": {},
   "outputs": [],
   "source": [
    "# capping outlier \n",
    "new_data = data.copy()\n",
    "new_data.loc[(new_data['Age']>upper_limit),'Age'] = upper_limit\n",
    "new_data.loc[(new_data['Age']<lower_limit),'Age'] = upper_limit"
   ]
  },
  {
   "cell_type": "markdown",
   "id": "a1a72e8c-e618-46e1-b849-50dc33e0f513",
   "metadata": {},
   "source": [
    "Percentile Method"
   ]
  },
  {
   "cell_type": "code",
   "execution_count": null,
   "id": "fc216229-d029-4377-b2dc-ce0996296933",
   "metadata": {},
   "outputs": [],
   "source": [
    "data.info()"
   ]
  },
  {
   "cell_type": "code",
   "execution_count": null,
   "id": "ecbe6abd-200f-482c-af02-9902e2e78220",
   "metadata": {},
   "outputs": [],
   "source": [
    "# find limit\n",
    "upper_limit =data_new['Age'].quantile(0.99)\n",
    "lower_limit =data['Age'].quantile(0.01)\n",
    "upper_limit,lower_limit"
   ]
  },
  {
   "cell_type": "code",
   "execution_count": null,
   "id": "a59c64b7-5c29-467e-8be9-4cee8f1b8fa2",
   "metadata": {
    "scrolled": true
   },
   "outputs": [],
   "source": [
    "sns.boxplot(data['Age'])"
   ]
  },
  {
   "cell_type": "code",
   "execution_count": null,
   "id": "e61767ef-febb-42c1-80da-b37dfe2630c7",
   "metadata": {
    "scrolled": true
   },
   "outputs": [],
   "source": [
    "# find the outlier \n",
    "data.loc[(data['Age'] >upper_limit) | (data['Age'] < lower_limit)]"
   ]
  },
  {
   "cell_type": "code",
   "execution_count": null,
   "id": "2def216a-dfc5-4b3f-b905-2745173abcbd",
   "metadata": {},
   "outputs": [],
   "source": [
    "# trime outlier \n",
    "new_data = data.loc[(data['Age'] < upper_limit) & (data['Age'] > lower_limit)]\n",
    "print('old_len',len(data))\n",
    "print('new_len',len(new_data))\n",
    "print('outliers no',len(data)-len(new_data))"
   ]
  },
  {
   "cell_type": "code",
   "execution_count": null,
   "id": "352a58c2-c817-4154-b719-ecab1329284d",
   "metadata": {},
   "outputs": [],
   "source": [
    "# capping outlier \n",
    "new_data = data.copy()\n",
    "new_data.loc[(new_data['Age']>upper_limit),'Age'] = upper_limit\n",
    "new_data.loc[(new_data['Age']<lower_limit),'Age'] = upper_limit"
   ]
  },
  {
   "cell_type": "code",
   "execution_count": null,
   "id": "fca85753-660a-4eb0-b225-816d4b5cf669",
   "metadata": {},
   "outputs": [],
   "source": [
    "sns.boxplot(new_data['Age'])"
   ]
  },
  {
   "cell_type": "code",
   "execution_count": null,
   "id": "1c0f18df-7aef-400d-a249-c80f1ed62246",
   "metadata": {},
   "outputs": [],
   "source": [
    "data.info()"
   ]
  },
  {
   "cell_type": "code",
   "execution_count": null,
   "id": "81f43ef0-eb5b-40c3-940e-cea054ed7cc2",
   "metadata": {},
   "outputs": [],
   "source": []
  },
  {
   "cell_type": "code",
   "execution_count": null,
   "id": "316a6ed8-b754-41df-998a-a7702bb35347",
   "metadata": {},
   "outputs": [],
   "source": []
  },
  {
   "cell_type": "code",
   "execution_count": null,
   "id": "9183063f-b436-4be0-8848-90117e839059",
   "metadata": {},
   "outputs": [],
   "source": [
    "# check new limits \n",
    "upper_limitt =new_data['Age'].mean() + 3*new_data['Age'].std()\n",
    "lower_limitt =new_data['Age'].mean() - 3*new_data['Age'].std()\n",
    "print('upper_limitt:',upper_limitt)\n",
    "print('lower_limitt:',lower_limitt)"
   ]
  },
  {
   "cell_type": "code",
   "execution_count": null,
   "id": "324bb2e4-8b41-4854-8852-212e19cf9d71",
   "metadata": {},
   "outputs": [],
   "source": [
    "# check if still the outlier in new\n",
    "new_data.loc[(new_data['Age'] >upper_limitt) | (new_data['Age'] < lower_limitt)]"
   ]
  },
  {
   "cell_type": "markdown",
   "id": "5f409c16-0910-4d36-8a85-be6183ecd3a3",
   "metadata": {},
   "source": [
    "categorical data handeling"
   ]
  },
  {
   "cell_type": "code",
   "execution_count": null,
   "id": "76417c47-8c42-4c51-9452-8cf08b369274",
   "metadata": {},
   "outputs": [],
   "source": [
    "# from sklearn.preprocessing import LabelEncoder\n",
    "# le =LabelEncoder()\n",
    "# data['Gender'] =le.fit_transform(data['Gender'])"
   ]
  },
  {
   "cell_type": "code",
   "execution_count": null,
   "id": "3705c42e-6819-4859-8e58-34390a902c47",
   "metadata": {},
   "outputs": [],
   "source": [
    "data"
   ]
  },
  {
   "cell_type": "code",
   "execution_count": null,
   "id": "7d408670-224e-461d-a0f4-55af33ab1898",
   "metadata": {},
   "outputs": [],
   "source": []
  },
  {
   "cell_type": "code",
   "execution_count": null,
   "id": "7b1ee724-60c9-497d-ba78-46db3239d13f",
   "metadata": {},
   "outputs": [],
   "source": [
    "from sklearn.compose import ColumnTransformer\n",
    "from sklearn.preprocessing import OneHotEncoder\n",
    "categorical_val=ColumnTransformer(transformers=[('encoder',OneHotEncoder(),[2,10])],remainder='passthrough')\n",
    "data =pd.DataFrame(categorical_val.fit_transform(data))"
   ]
  },
  {
   "cell_type": "code",
   "execution_count": null,
   "id": "1591e251-e48f-42be-bfd0-968268870044",
   "metadata": {},
   "outputs": [],
   "source": [
    "# data.columns =['Home Mortage','Rent','Home Owner','M','F','O','ID','Age','Experience','Income','ZIP Code','Family','CCAvg','Education','Mortgage','Personal Loan','Securities Account','CD Account','Online','CreditCard']\n",
    "data.columns =['Female','Male','Other','Home Mortage','Home Owner','Rent','ID','Age','Experience','Income','ZIP Code','Family','CCAvg','Education','Mortgage','Personal Loan','Securities Account','CD Account','Online','CreditCard']"
   ]
  },
  {
   "cell_type": "code",
   "execution_count": null,
   "id": "1d6b4960-b65b-4265-8a6d-3dbbebfd46ac",
   "metadata": {},
   "outputs": [],
   "source": [
    "data['Other'].value_counts()"
   ]
  },
  {
   "cell_type": "code",
   "execution_count": null,
   "id": "b100310c-0455-4c42-aa26-46fffbda5333",
   "metadata": {},
   "outputs": [],
   "source": [
    "data"
   ]
  },
  {
   "cell_type": "code",
   "execution_count": null,
   "id": "95ff6ea5-0087-45e8-801b-5e0f9fde7374",
   "metadata": {},
   "outputs": [],
   "source": [
    "data"
   ]
  },
  {
   "cell_type": "code",
   "execution_count": null,
   "id": "5e600a11-69ac-4426-b258-6bcc409b3427",
   "metadata": {},
   "outputs": [],
   "source": [
    "data.dtypes"
   ]
  },
  {
   "cell_type": "code",
   "execution_count": null,
   "id": "95f41288-4d98-45ae-ace4-8a67b6f5ebe8",
   "metadata": {},
   "outputs": [],
   "source": []
  }
 ],
 "metadata": {
  "kernelspec": {
   "display_name": "Python 3 (ipykernel)",
   "language": "python",
   "name": "python3"
  },
  "language_info": {
   "codemirror_mode": {
    "name": "ipython",
    "version": 3
   },
   "file_extension": ".py",
   "mimetype": "text/x-python",
   "name": "python",
   "nbconvert_exporter": "python",
   "pygments_lexer": "ipython3",
   "version": "3.11.5"
  }
 },
 "nbformat": 4,
 "nbformat_minor": 5
}
