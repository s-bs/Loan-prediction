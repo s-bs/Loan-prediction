{
 "cells": [
  {
   "cell_type": "markdown",
   "id": "fdb11eba-b942-4823-9e10-0fe57ba2b0d1",
   "metadata": {},
   "source": [
    "1.Importing Library"
   ]
  },
  {
   "cell_type": "code",
   "execution_count": 7,
   "id": "118c189f-3e4d-4e43-a0f3-acff7357e9a6",
   "metadata": {},
   "outputs": [],
   "source": [
    "import pandas as pd\n",
    "import numpy as np\n",
    "import seaborn as sns"
   ]
  },
  {
   "cell_type": "markdown",
   "id": "df7dbb98-504d-40d5-aa36-d476f3827cd7",
   "metadata": {},
   "source": [
    "2.Import data"
   ]
  },
  {
   "cell_type": "code",
   "execution_count": 8,
   "id": "85f7f932-8930-4b4d-8f44-85d3a55c3739",
   "metadata": {
    "scrolled": true
   },
   "outputs": [
    {
     "data": {
      "text/html": [
       "<div>\n",
       "<style scoped>\n",
       "    .dataframe tbody tr th:only-of-type {\n",
       "        vertical-align: middle;\n",
       "    }\n",
       "\n",
       "    .dataframe tbody tr th {\n",
       "        vertical-align: top;\n",
       "    }\n",
       "\n",
       "    .dataframe thead th {\n",
       "        text-align: right;\n",
       "    }\n",
       "</style>\n",
       "<table border=\"1\" class=\"dataframe\">\n",
       "  <thead>\n",
       "    <tr style=\"text-align: right;\">\n",
       "      <th></th>\n",
       "      <th>ID</th>\n",
       "      <th>Age</th>\n",
       "      <th>Gender</th>\n",
       "      <th>Experience</th>\n",
       "      <th>Income</th>\n",
       "      <th>ZIP Code</th>\n",
       "      <th>Family</th>\n",
       "      <th>CCAvg</th>\n",
       "      <th>Education</th>\n",
       "      <th>Mortgage</th>\n",
       "      <th>Home Ownership</th>\n",
       "      <th>Personal Loan</th>\n",
       "      <th>Securities Account</th>\n",
       "      <th>CD Account</th>\n",
       "      <th>Online</th>\n",
       "      <th>CreditCard</th>\n",
       "    </tr>\n",
       "  </thead>\n",
       "  <tbody>\n",
       "    <tr>\n",
       "      <th>0</th>\n",
       "      <td>1</td>\n",
       "      <td>25</td>\n",
       "      <td>M</td>\n",
       "      <td>1</td>\n",
       "      <td>49.0</td>\n",
       "      <td>91107</td>\n",
       "      <td>4</td>\n",
       "      <td>1.6</td>\n",
       "      <td>1</td>\n",
       "      <td>0</td>\n",
       "      <td>Home Owner</td>\n",
       "      <td>0</td>\n",
       "      <td>1</td>\n",
       "      <td>0</td>\n",
       "      <td>0.0</td>\n",
       "      <td>0</td>\n",
       "    </tr>\n",
       "    <tr>\n",
       "      <th>1</th>\n",
       "      <td>2</td>\n",
       "      <td>45</td>\n",
       "      <td>M</td>\n",
       "      <td>19</td>\n",
       "      <td>34.0</td>\n",
       "      <td>90089</td>\n",
       "      <td>3</td>\n",
       "      <td>1.5</td>\n",
       "      <td>1</td>\n",
       "      <td>0</td>\n",
       "      <td>Rent</td>\n",
       "      <td>0</td>\n",
       "      <td>1</td>\n",
       "      <td>0</td>\n",
       "      <td>0.0</td>\n",
       "      <td>0</td>\n",
       "    </tr>\n",
       "    <tr>\n",
       "      <th>2</th>\n",
       "      <td>3</td>\n",
       "      <td>39</td>\n",
       "      <td>M</td>\n",
       "      <td>15</td>\n",
       "      <td>11.0</td>\n",
       "      <td>94720</td>\n",
       "      <td>1</td>\n",
       "      <td>1.0</td>\n",
       "      <td>1</td>\n",
       "      <td>0</td>\n",
       "      <td>Rent</td>\n",
       "      <td>0</td>\n",
       "      <td>0</td>\n",
       "      <td>0</td>\n",
       "      <td>0.0</td>\n",
       "      <td>0</td>\n",
       "    </tr>\n",
       "    <tr>\n",
       "      <th>3</th>\n",
       "      <td>4</td>\n",
       "      <td>35</td>\n",
       "      <td>M</td>\n",
       "      <td>9</td>\n",
       "      <td>100.0</td>\n",
       "      <td>94112</td>\n",
       "      <td>1</td>\n",
       "      <td>2.7</td>\n",
       "      <td>2</td>\n",
       "      <td>0</td>\n",
       "      <td>Rent</td>\n",
       "      <td>0</td>\n",
       "      <td>0</td>\n",
       "      <td>0</td>\n",
       "      <td>0.0</td>\n",
       "      <td>0</td>\n",
       "    </tr>\n",
       "    <tr>\n",
       "      <th>4</th>\n",
       "      <td>5</td>\n",
       "      <td>35</td>\n",
       "      <td>M</td>\n",
       "      <td>8</td>\n",
       "      <td>45.0</td>\n",
       "      <td>91330</td>\n",
       "      <td>4</td>\n",
       "      <td>1.0</td>\n",
       "      <td>2</td>\n",
       "      <td>0</td>\n",
       "      <td>Rent</td>\n",
       "      <td>0</td>\n",
       "      <td>0</td>\n",
       "      <td>0</td>\n",
       "      <td>0.0</td>\n",
       "      <td>1</td>\n",
       "    </tr>\n",
       "  </tbody>\n",
       "</table>\n",
       "</div>"
      ],
      "text/plain": [
       "   ID  Age Gender  Experience  Income  ZIP Code  Family  CCAvg  Education  \\\n",
       "0   1   25      M           1    49.0     91107       4    1.6          1   \n",
       "1   2   45      M          19    34.0     90089       3    1.5          1   \n",
       "2   3   39      M          15    11.0     94720       1    1.0          1   \n",
       "3   4   35      M           9   100.0     94112       1    2.7          2   \n",
       "4   5   35      M           8    45.0     91330       4    1.0          2   \n",
       "\n",
       "   Mortgage Home Ownership Personal Loan  Securities Account  CD Account  \\\n",
       "0         0     Home Owner             0                   1           0   \n",
       "1         0           Rent             0                   1           0   \n",
       "2         0           Rent             0                   0           0   \n",
       "3         0           Rent             0                   0           0   \n",
       "4         0           Rent             0                   0           0   \n",
       "\n",
       "   Online  CreditCard  \n",
       "0     0.0           0  \n",
       "1     0.0           0  \n",
       "2     0.0           0  \n",
       "3     0.0           0  \n",
       "4     0.0           1  "
      ]
     },
     "execution_count": 8,
     "metadata": {},
     "output_type": "execute_result"
    }
   ],
   "source": [
    "data = pd.read_excel('../resources/data/loan_data.xlsx')\n",
    "data.head()"
   ]
  },
  {
   "cell_type": "markdown",
   "id": "c7eebbc5-1c13-4b6a-ab4f-88fc031ad026",
   "metadata": {},
   "source": [
    "3.DATA INFORMATION"
   ]
  },
  {
   "cell_type": "code",
   "execution_count": null,
   "id": "27d33f74-9acf-44ef-9eac-2d6736c33d24",
   "metadata": {
    "scrolled": true
   },
   "outputs": [],
   "source": [
    "data.dtypes"
   ]
  },
  {
   "cell_type": "code",
   "execution_count": null,
   "id": "09cd447c-cefe-4626-893c-f1091df372b9",
   "metadata": {},
   "outputs": [],
   "source": [
    "data.describe()"
   ]
  },
  {
   "cell_type": "code",
   "execution_count": null,
   "id": "6b651bd9-c65e-4834-862f-b5cd956e5308",
   "metadata": {},
   "outputs": [],
   "source": [
    "data.info()"
   ]
  },
  {
   "cell_type": "markdown",
   "id": "a96fcae6-71c6-4db2-b1ca-ded2fc646994",
   "metadata": {},
   "source": [
    "4.Null value handaling"
   ]
  },
  {
   "cell_type": "code",
   "execution_count": null,
   "id": "eac7d76e-3499-40b5-a8f5-a3a55e0dff4e",
   "metadata": {},
   "outputs": [],
   "source": [
    "data.isnull().sum()*100/len(data)"
   ]
  },
  {
   "cell_type": "code",
   "execution_count": null,
   "id": "d9ba670b-739d-4196-a921-a4dbf19b54f2",
   "metadata": {},
   "outputs": [],
   "source": [
    "columns_array = np.array(data.columns)\n",
    "\n",
    "for c in columns_array:\n",
    "    uniq= data[c].unique()\n",
    "    print(c,uniq)"
   ]
  },
  {
   "cell_type": "markdown",
   "id": "d8c1a760-fcbc-40d8-9968-6367b30fad3d",
   "metadata": {},
   "source": [
    "Drope null value less than 5%"
   ]
  },
  {
   "cell_type": "code",
   "execution_count": 9,
   "id": "c17a2ee4-988e-41f3-acd2-903ff0eb5479",
   "metadata": {},
   "outputs": [],
   "source": [
    "data.dropna(subset=['Income','Online'],inplace=True,axis=0)\n",
    "data.reset_index(drop=True,inplace=True)"
   ]
  },
  {
   "cell_type": "code",
   "execution_count": null,
   "id": "ac59a95e-bf4c-4a74-a2fa-23d228b6634e",
   "metadata": {},
   "outputs": [],
   "source": [
    "data['Gender'].value_counts()"
   ]
  },
  {
   "cell_type": "markdown",
   "id": "38cf6f78-d5aa-4b19-b370-b4749f27fa83",
   "metadata": {},
   "source": [
    "Replace non-standard value with standard value"
   ]
  },
  {
   "cell_type": "code",
   "execution_count": 10,
   "id": "6690d5a0-d88f-4571-b68a-d5ea1a4b65d0",
   "metadata": {},
   "outputs": [],
   "source": [
    "data.replace(\"#\",np.nan,inplace=True)\n",
    "data.replace(\"-\",np.nan,inplace=True)"
   ]
  },
  {
   "cell_type": "markdown",
   "id": "d2e830b7-a772-4be1-bd7f-4e9cd69291d3",
   "metadata": {},
   "source": [
    "Replace non-standard value with standard value"
   ]
  },
  {
   "cell_type": "code",
   "execution_count": 11,
   "id": "0a580c2a-0b25-4d4c-a188-78ac224faa42",
   "metadata": {},
   "outputs": [],
   "source": [
    "data.replace(\" \",np.nan,inplace=True)"
   ]
  },
  {
   "cell_type": "code",
   "execution_count": null,
   "id": "154a0444-93cc-44c0-9730-2c3559b35ff8",
   "metadata": {},
   "outputs": [],
   "source": [
    "data['Personal Loan'].value_counts()"
   ]
  },
  {
   "cell_type": "markdown",
   "id": "2cbb619d-6289-458a-865d-baf55394509a",
   "metadata": {},
   "source": [
    "Drope null value less than 5%"
   ]
  },
  {
   "cell_type": "code",
   "execution_count": 12,
   "id": "8e7a4435-c14e-49a4-92fd-be2f0d2edbcd",
   "metadata": {},
   "outputs": [],
   "source": [
    "data.dropna(subset=['Personal Loan'],inplace=True,axis=0)\n",
    "data.reset_index(drop=True,inplace=True)"
   ]
  },
  {
   "cell_type": "markdown",
   "id": "96919209-99ea-484b-85e2-a2994f9aa541",
   "metadata": {},
   "source": [
    "Replace null value with mode"
   ]
  },
  {
   "cell_type": "code",
   "execution_count": 13,
   "id": "7234a726-559e-489f-ab79-23585d01e21e",
   "metadata": {},
   "outputs": [],
   "source": [
    "from sklearn.impute import SimpleImputer\n",
    "gender_mode = SimpleImputer(missing_values=np.nan, strategy='most_frequent')\n",
    "data['Gender']=gender_mode.fit_transform(data[['Gender']])\n",
    "\n",
    "ownership_mode = SimpleImputer(missing_values=np.nan, strategy='most_frequent')\n",
    "data['Home Ownership']=gender_mode.fit_transform(data[['Home Ownership']])"
   ]
  },
  {
   "cell_type": "code",
   "execution_count": null,
   "id": "174c3d71-9519-4016-aa76-f6c0802612c4",
   "metadata": {},
   "outputs": [],
   "source": [
    "data.head(5)"
   ]
  },
  {
   "cell_type": "markdown",
   "id": "67444cb4-dcbe-4ca1-a511-1e202132d060",
   "metadata": {},
   "source": [
    "Data Visualization And  outliers Management"
   ]
  },
  {
   "cell_type": "code",
   "execution_count": null,
   "id": "cafb9397-d67f-40f8-bb59-deb3beb6b259",
   "metadata": {},
   "outputs": [],
   "source": [
    "def Graphplot(column):\n",
    "    sns.distplot(data[column])"
   ]
  },
  {
   "cell_type": "code",
   "execution_count": null,
   "id": "d0830ca3-832c-44f2-813e-02c30e5a84b1",
   "metadata": {},
   "outputs": [],
   "source": [
    "Graphplot('Age')"
   ]
  },
  {
   "cell_type": "code",
   "execution_count": null,
   "id": "67eb3087-deb0-409c-93a4-10882aafbadb",
   "metadata": {},
   "outputs": [],
   "source": [
    "def Boxplot(column):\n",
    "    sns.boxplot(data[column])"
   ]
  },
  {
   "cell_type": "code",
   "execution_count": null,
   "id": "66a0d56c-3cfe-4685-8b59-aae1bda38eab",
   "metadata": {},
   "outputs": [],
   "source": [
    "Boxplot('Age')"
   ]
  },
  {
   "cell_type": "code",
   "execution_count": null,
   "id": "47fd49a6-9887-4cd2-91e3-eb2de0a23289",
   "metadata": {},
   "outputs": [],
   "source": [
    "sns.boxplot(new_data['Age'])"
   ]
  },
  {
   "cell_type": "code",
   "execution_count": null,
   "id": "04caa366-9dfa-483f-8072-57597eeefd16",
   "metadata": {},
   "outputs": [],
   "source": [
    "sns.boxplot(data['Age'])"
   ]
  },
  {
   "cell_type": "markdown",
   "id": "a1a72e8c-e618-46e1-b849-50dc33e0f513",
   "metadata": {},
   "source": [
    "Percentile Method"
   ]
  },
  {
   "cell_type": "code",
   "execution_count": null,
   "id": "b377f2d8-a97a-42d9-97b1-831b18753dd0",
   "metadata": {},
   "outputs": [],
   "source": [
    "data"
   ]
  },
  {
   "cell_type": "code",
   "execution_count": 14,
   "id": "4f2d3525-a109-41be-8dfe-ad11b1d8f5e1",
   "metadata": {},
   "outputs": [],
   "source": [
    "# find the number of outliers function\n",
    "def NumberOutliers(column,df):\n",
    "    # find limit\n",
    "    upper_limit =df[column].quantile(0.99)\n",
    "    lower_limit =df[column].quantile(0.01)\n",
    "    # find the outlier \n",
    "    out=df.loc[(df[column] >upper_limit) | (df[column] < lower_limit)]\n",
    "    return len(out)"
   ]
  },
  {
   "cell_type": "code",
   "execution_count": 15,
   "id": "02226a35-e293-4704-ab4d-84a8fac0e6b3",
   "metadata": {},
   "outputs": [
    {
     "data": {
      "text/plain": [
       "[('ID', 98),\n",
       " ('Age', 88),\n",
       " ('Experience', 30),\n",
       " ('Income', 69),\n",
       " ('ZIP Code', 73),\n",
       " ('Family', 0),\n",
       " ('CCAvg', 47),\n",
       " ('Education', 0),\n",
       " ('Mortgage', 48),\n",
       " ('Personal Loan', 0),\n",
       " ('Securities Account', 0),\n",
       " ('CD Account', 0),\n",
       " ('Online', 0),\n",
       " ('CreditCard', 0)]"
      ]
     },
     "execution_count": 15,
     "metadata": {},
     "output_type": "execute_result"
    }
   ],
   "source": [
    "# find the number of outliers in each column\n",
    "Total_outlier = []\n",
    "columns = data.head(0)\n",
    "for c in columns:\n",
    "    if data[c].dtype in ['int64','float64']:\n",
    "        num = NumberOutliers(c, data)\n",
    "        Total_outlier.append((c, num))\n",
    "Total_outlier"
   ]
  },
  {
   "cell_type": "code",
   "execution_count": 16,
   "id": "fca85753-660a-4eb0-b225-816d4b5cf669",
   "metadata": {},
   "outputs": [],
   "source": [
    "# Capping Outliers function\n",
    "def RemoveOutliers(column,df):\n",
    "    # find limit\n",
    "    upper_limit =df[column].quantile(0.99)\n",
    "    lower_limit =df[column].quantile(0.01)\n",
    "    # find the outlier \n",
    "    out=df.loc[(df[column] >upper_limit) | (df[column] < lower_limit)]\n",
    "    # capping outlier \n",
    "    df.loc[(df[column]>upper_limit),column] = upper_limit\n",
    "    df.loc[(df[column]<lower_limit),column] = lower_limit\n",
    "    return df"
   ]
  },
  {
   "cell_type": "code",
   "execution_count": 17,
   "id": "aa25bd49-fbe7-4875-bd99-6319f171c705",
   "metadata": {},
   "outputs": [],
   "source": [
    "# Capp outliers from each column\n",
    "columns = data.head(0)\n",
    "for c in columns:\n",
    "    if data[c].dtype in ['int64','float64']:\n",
    "        RemoveOutliers(c,data)"
   ]
  },
  {
   "cell_type": "markdown",
   "id": "5f409c16-0910-4d36-8a85-be6183ecd3a3",
   "metadata": {},
   "source": [
    "categorical data handeling"
   ]
  },
  {
   "cell_type": "code",
   "execution_count": null,
   "id": "3705c42e-6819-4859-8e58-34390a902c47",
   "metadata": {},
   "outputs": [],
   "source": [
    "data"
   ]
  },
  {
   "cell_type": "markdown",
   "id": "a12cf155-5b16-4ee6-ac4f-1e2198f2f0c4",
   "metadata": {},
   "source": [
    "Using onehotkey encoding"
   ]
  },
  {
   "cell_type": "code",
   "execution_count": 18,
   "id": "7b1ee724-60c9-497d-ba78-46db3239d13f",
   "metadata": {},
   "outputs": [],
   "source": [
    "from sklearn.compose import ColumnTransformer\n",
    "from sklearn.preprocessing import OneHotEncoder\n",
    "categorical_val=ColumnTransformer(transformers=[('encoder',OneHotEncoder(),[2,10])],remainder='passthrough')\n",
    "data =pd.DataFrame(categorical_val.fit_transform(data))"
   ]
  },
  {
   "cell_type": "code",
   "execution_count": 19,
   "id": "1591e251-e48f-42be-bfd0-968268870044",
   "metadata": {},
   "outputs": [],
   "source": [
    "# data.columns =['Home Mortage','Rent','Home Owner','M','F','O','ID','Age','Experience','Income','ZIP Code','Family','CCAvg','Education','Mortgage','Personal Loan','Securities Account','CD Account','Online','CreditCard']\n",
    "data.columns =['Female','Male','Other','Home Mortage','Home Owner','Rent','ID','Age','Experience','Income','ZIP Code','Family','CCAvg','Education','Mortgage','Personal Loan','Securities Account','CD Account','Online','CreditCard']"
   ]
  },
  {
   "cell_type": "code",
   "execution_count": 20,
   "id": "b100310c-0455-4c42-aa26-46fffbda5333",
   "metadata": {},
   "outputs": [
    {
     "data": {
      "text/plain": [
       "Female                 0\n",
       "Male                   0\n",
       "Other                  0\n",
       "Home Mortage           0\n",
       "Home Owner             0\n",
       "Rent                   0\n",
       "ID                     0\n",
       "Age                    0\n",
       "Experience            52\n",
       "Income                 0\n",
       "ZIP Code               0\n",
       "Family                 0\n",
       "CCAvg                  0\n",
       "Education              0\n",
       "Mortgage               0\n",
       "Personal Loan          0\n",
       "Securities Account     0\n",
       "CD Account             0\n",
       "Online                 0\n",
       "CreditCard             0\n",
       "dtype: int64"
      ]
     },
     "execution_count": 20,
     "metadata": {},
     "output_type": "execute_result"
    }
   ],
   "source": [
    "count_negative_valuess = np.sum(data < 0)\n",
    "count_negative_valuess"
   ]
  },
  {
   "cell_type": "code",
   "execution_count": 21,
   "id": "a3371431-8564-4338-9a5f-bd03eb2b54cb",
   "metadata": {},
   "outputs": [],
   "source": [
    "data = np.abs(data)"
   ]
  },
  {
   "cell_type": "code",
   "execution_count": 22,
   "id": "f21c0187-21d4-4bc3-92f2-d0c9f1fc37e3",
   "metadata": {},
   "outputs": [],
   "source": [
    "# Save the modified Dataset to a new file\n",
    "data.to_csv('../resources/data/modified_data.csv', index=False)"
   ]
  },
  {
   "cell_type": "code",
   "execution_count": 24,
   "id": "4cd4aae4-ec70-470e-bce6-8a65a623ccb3",
   "metadata": {},
   "outputs": [],
   "source": [
    "data_sec = pd.read_csv('../resources/data/modified_data.csv')"
   ]
  },
  {
   "cell_type": "code",
   "execution_count": 25,
   "id": "5ec79384-820b-4ca9-be7c-3e308a61a4d6",
   "metadata": {},
   "outputs": [
    {
     "data": {
      "text/html": [
       "<div>\n",
       "<style scoped>\n",
       "    .dataframe tbody tr th:only-of-type {\n",
       "        vertical-align: middle;\n",
       "    }\n",
       "\n",
       "    .dataframe tbody tr th {\n",
       "        vertical-align: top;\n",
       "    }\n",
       "\n",
       "    .dataframe thead th {\n",
       "        text-align: right;\n",
       "    }\n",
       "</style>\n",
       "<table border=\"1\" class=\"dataframe\">\n",
       "  <thead>\n",
       "    <tr style=\"text-align: right;\">\n",
       "      <th></th>\n",
       "      <th>Female</th>\n",
       "      <th>Male</th>\n",
       "      <th>Other</th>\n",
       "      <th>Home Mortage</th>\n",
       "      <th>Home Owner</th>\n",
       "      <th>Rent</th>\n",
       "      <th>ID</th>\n",
       "      <th>Age</th>\n",
       "      <th>Experience</th>\n",
       "      <th>Income</th>\n",
       "      <th>ZIP Code</th>\n",
       "      <th>Family</th>\n",
       "      <th>CCAvg</th>\n",
       "      <th>Education</th>\n",
       "      <th>Mortgage</th>\n",
       "      <th>Personal Loan</th>\n",
       "      <th>Securities Account</th>\n",
       "      <th>CD Account</th>\n",
       "      <th>Online</th>\n",
       "      <th>CreditCard</th>\n",
       "    </tr>\n",
       "  </thead>\n",
       "  <tbody>\n",
       "    <tr>\n",
       "      <th>0</th>\n",
       "      <td>0.0</td>\n",
       "      <td>1.0</td>\n",
       "      <td>0.0</td>\n",
       "      <td>0.0</td>\n",
       "      <td>1.0</td>\n",
       "      <td>0.0</td>\n",
       "      <td>52.93</td>\n",
       "      <td>25.0</td>\n",
       "      <td>1.0</td>\n",
       "      <td>49.0</td>\n",
       "      <td>91107.0</td>\n",
       "      <td>4.0</td>\n",
       "      <td>1.6</td>\n",
       "      <td>1.0</td>\n",
       "      <td>0.0</td>\n",
       "      <td>0.0</td>\n",
       "      <td>1.0</td>\n",
       "      <td>0.0</td>\n",
       "      <td>0.0</td>\n",
       "      <td>0.0</td>\n",
       "    </tr>\n",
       "    <tr>\n",
       "      <th>1</th>\n",
       "      <td>0.0</td>\n",
       "      <td>1.0</td>\n",
       "      <td>0.0</td>\n",
       "      <td>0.0</td>\n",
       "      <td>0.0</td>\n",
       "      <td>1.0</td>\n",
       "      <td>52.93</td>\n",
       "      <td>45.0</td>\n",
       "      <td>19.0</td>\n",
       "      <td>34.0</td>\n",
       "      <td>90089.0</td>\n",
       "      <td>3.0</td>\n",
       "      <td>1.5</td>\n",
       "      <td>1.0</td>\n",
       "      <td>0.0</td>\n",
       "      <td>0.0</td>\n",
       "      <td>1.0</td>\n",
       "      <td>0.0</td>\n",
       "      <td>0.0</td>\n",
       "      <td>0.0</td>\n",
       "    </tr>\n",
       "    <tr>\n",
       "      <th>2</th>\n",
       "      <td>0.0</td>\n",
       "      <td>1.0</td>\n",
       "      <td>0.0</td>\n",
       "      <td>0.0</td>\n",
       "      <td>0.0</td>\n",
       "      <td>1.0</td>\n",
       "      <td>52.93</td>\n",
       "      <td>39.0</td>\n",
       "      <td>15.0</td>\n",
       "      <td>11.0</td>\n",
       "      <td>94720.0</td>\n",
       "      <td>1.0</td>\n",
       "      <td>1.0</td>\n",
       "      <td>1.0</td>\n",
       "      <td>0.0</td>\n",
       "      <td>0.0</td>\n",
       "      <td>0.0</td>\n",
       "      <td>0.0</td>\n",
       "      <td>0.0</td>\n",
       "      <td>0.0</td>\n",
       "    </tr>\n",
       "    <tr>\n",
       "      <th>3</th>\n",
       "      <td>0.0</td>\n",
       "      <td>1.0</td>\n",
       "      <td>0.0</td>\n",
       "      <td>0.0</td>\n",
       "      <td>0.0</td>\n",
       "      <td>1.0</td>\n",
       "      <td>52.93</td>\n",
       "      <td>35.0</td>\n",
       "      <td>9.0</td>\n",
       "      <td>100.0</td>\n",
       "      <td>94112.0</td>\n",
       "      <td>1.0</td>\n",
       "      <td>2.7</td>\n",
       "      <td>2.0</td>\n",
       "      <td>0.0</td>\n",
       "      <td>0.0</td>\n",
       "      <td>0.0</td>\n",
       "      <td>0.0</td>\n",
       "      <td>0.0</td>\n",
       "      <td>0.0</td>\n",
       "    </tr>\n",
       "    <tr>\n",
       "      <th>4</th>\n",
       "      <td>0.0</td>\n",
       "      <td>1.0</td>\n",
       "      <td>0.0</td>\n",
       "      <td>0.0</td>\n",
       "      <td>0.0</td>\n",
       "      <td>1.0</td>\n",
       "      <td>52.93</td>\n",
       "      <td>35.0</td>\n",
       "      <td>8.0</td>\n",
       "      <td>45.0</td>\n",
       "      <td>91330.0</td>\n",
       "      <td>4.0</td>\n",
       "      <td>1.0</td>\n",
       "      <td>2.0</td>\n",
       "      <td>0.0</td>\n",
       "      <td>0.0</td>\n",
       "      <td>0.0</td>\n",
       "      <td>0.0</td>\n",
       "      <td>0.0</td>\n",
       "      <td>1.0</td>\n",
       "    </tr>\n",
       "    <tr>\n",
       "      <th>...</th>\n",
       "      <td>...</td>\n",
       "      <td>...</td>\n",
       "      <td>...</td>\n",
       "      <td>...</td>\n",
       "      <td>...</td>\n",
       "      <td>...</td>\n",
       "      <td>...</td>\n",
       "      <td>...</td>\n",
       "      <td>...</td>\n",
       "      <td>...</td>\n",
       "      <td>...</td>\n",
       "      <td>...</td>\n",
       "      <td>...</td>\n",
       "      <td>...</td>\n",
       "      <td>...</td>\n",
       "      <td>...</td>\n",
       "      <td>...</td>\n",
       "      <td>...</td>\n",
       "      <td>...</td>\n",
       "      <td>...</td>\n",
       "    </tr>\n",
       "    <tr>\n",
       "      <th>4889</th>\n",
       "      <td>0.0</td>\n",
       "      <td>1.0</td>\n",
       "      <td>0.0</td>\n",
       "      <td>1.0</td>\n",
       "      <td>0.0</td>\n",
       "      <td>0.0</td>\n",
       "      <td>4950.07</td>\n",
       "      <td>29.0</td>\n",
       "      <td>3.0</td>\n",
       "      <td>40.0</td>\n",
       "      <td>92697.0</td>\n",
       "      <td>1.0</td>\n",
       "      <td>1.9</td>\n",
       "      <td>3.0</td>\n",
       "      <td>0.0</td>\n",
       "      <td>0.0</td>\n",
       "      <td>0.0</td>\n",
       "      <td>0.0</td>\n",
       "      <td>1.0</td>\n",
       "      <td>0.0</td>\n",
       "    </tr>\n",
       "    <tr>\n",
       "      <th>4890</th>\n",
       "      <td>0.0</td>\n",
       "      <td>1.0</td>\n",
       "      <td>0.0</td>\n",
       "      <td>1.0</td>\n",
       "      <td>0.0</td>\n",
       "      <td>0.0</td>\n",
       "      <td>4950.07</td>\n",
       "      <td>30.0</td>\n",
       "      <td>4.0</td>\n",
       "      <td>15.0</td>\n",
       "      <td>92037.0</td>\n",
       "      <td>4.0</td>\n",
       "      <td>0.4</td>\n",
       "      <td>1.0</td>\n",
       "      <td>85.0</td>\n",
       "      <td>0.0</td>\n",
       "      <td>0.0</td>\n",
       "      <td>0.0</td>\n",
       "      <td>1.0</td>\n",
       "      <td>0.0</td>\n",
       "    </tr>\n",
       "    <tr>\n",
       "      <th>4891</th>\n",
       "      <td>0.0</td>\n",
       "      <td>1.0</td>\n",
       "      <td>0.0</td>\n",
       "      <td>1.0</td>\n",
       "      <td>0.0</td>\n",
       "      <td>0.0</td>\n",
       "      <td>4950.07</td>\n",
       "      <td>63.0</td>\n",
       "      <td>39.0</td>\n",
       "      <td>24.0</td>\n",
       "      <td>93023.0</td>\n",
       "      <td>2.0</td>\n",
       "      <td>0.3</td>\n",
       "      <td>3.0</td>\n",
       "      <td>0.0</td>\n",
       "      <td>0.0</td>\n",
       "      <td>0.0</td>\n",
       "      <td>0.0</td>\n",
       "      <td>0.0</td>\n",
       "      <td>0.0</td>\n",
       "    </tr>\n",
       "    <tr>\n",
       "      <th>4892</th>\n",
       "      <td>0.0</td>\n",
       "      <td>1.0</td>\n",
       "      <td>0.0</td>\n",
       "      <td>1.0</td>\n",
       "      <td>0.0</td>\n",
       "      <td>0.0</td>\n",
       "      <td>4950.07</td>\n",
       "      <td>65.0</td>\n",
       "      <td>40.0</td>\n",
       "      <td>49.0</td>\n",
       "      <td>90034.0</td>\n",
       "      <td>3.0</td>\n",
       "      <td>0.5</td>\n",
       "      <td>2.0</td>\n",
       "      <td>0.0</td>\n",
       "      <td>0.0</td>\n",
       "      <td>0.0</td>\n",
       "      <td>0.0</td>\n",
       "      <td>1.0</td>\n",
       "      <td>0.0</td>\n",
       "    </tr>\n",
       "    <tr>\n",
       "      <th>4893</th>\n",
       "      <td>0.0</td>\n",
       "      <td>1.0</td>\n",
       "      <td>0.0</td>\n",
       "      <td>1.0</td>\n",
       "      <td>0.0</td>\n",
       "      <td>0.0</td>\n",
       "      <td>4950.07</td>\n",
       "      <td>28.0</td>\n",
       "      <td>4.0</td>\n",
       "      <td>83.0</td>\n",
       "      <td>92612.0</td>\n",
       "      <td>3.0</td>\n",
       "      <td>0.8</td>\n",
       "      <td>1.0</td>\n",
       "      <td>0.0</td>\n",
       "      <td>0.0</td>\n",
       "      <td>0.0</td>\n",
       "      <td>0.0</td>\n",
       "      <td>1.0</td>\n",
       "      <td>1.0</td>\n",
       "    </tr>\n",
       "  </tbody>\n",
       "</table>\n",
       "<p>4894 rows × 20 columns</p>\n",
       "</div>"
      ],
      "text/plain": [
       "      Female  Male  Other  Home Mortage  Home Owner  Rent       ID   Age  \\\n",
       "0        0.0   1.0    0.0           0.0         1.0   0.0    52.93  25.0   \n",
       "1        0.0   1.0    0.0           0.0         0.0   1.0    52.93  45.0   \n",
       "2        0.0   1.0    0.0           0.0         0.0   1.0    52.93  39.0   \n",
       "3        0.0   1.0    0.0           0.0         0.0   1.0    52.93  35.0   \n",
       "4        0.0   1.0    0.0           0.0         0.0   1.0    52.93  35.0   \n",
       "...      ...   ...    ...           ...         ...   ...      ...   ...   \n",
       "4889     0.0   1.0    0.0           1.0         0.0   0.0  4950.07  29.0   \n",
       "4890     0.0   1.0    0.0           1.0         0.0   0.0  4950.07  30.0   \n",
       "4891     0.0   1.0    0.0           1.0         0.0   0.0  4950.07  63.0   \n",
       "4892     0.0   1.0    0.0           1.0         0.0   0.0  4950.07  65.0   \n",
       "4893     0.0   1.0    0.0           1.0         0.0   0.0  4950.07  28.0   \n",
       "\n",
       "      Experience  Income  ZIP Code  Family  CCAvg  Education  Mortgage  \\\n",
       "0            1.0    49.0   91107.0     4.0    1.6        1.0       0.0   \n",
       "1           19.0    34.0   90089.0     3.0    1.5        1.0       0.0   \n",
       "2           15.0    11.0   94720.0     1.0    1.0        1.0       0.0   \n",
       "3            9.0   100.0   94112.0     1.0    2.7        2.0       0.0   \n",
       "4            8.0    45.0   91330.0     4.0    1.0        2.0       0.0   \n",
       "...          ...     ...       ...     ...    ...        ...       ...   \n",
       "4889         3.0    40.0   92697.0     1.0    1.9        3.0       0.0   \n",
       "4890         4.0    15.0   92037.0     4.0    0.4        1.0      85.0   \n",
       "4891        39.0    24.0   93023.0     2.0    0.3        3.0       0.0   \n",
       "4892        40.0    49.0   90034.0     3.0    0.5        2.0       0.0   \n",
       "4893         4.0    83.0   92612.0     3.0    0.8        1.0       0.0   \n",
       "\n",
       "      Personal Loan  Securities Account  CD Account  Online  CreditCard  \n",
       "0               0.0                 1.0         0.0     0.0         0.0  \n",
       "1               0.0                 1.0         0.0     0.0         0.0  \n",
       "2               0.0                 0.0         0.0     0.0         0.0  \n",
       "3               0.0                 0.0         0.0     0.0         0.0  \n",
       "4               0.0                 0.0         0.0     0.0         1.0  \n",
       "...             ...                 ...         ...     ...         ...  \n",
       "4889            0.0                 0.0         0.0     1.0         0.0  \n",
       "4890            0.0                 0.0         0.0     1.0         0.0  \n",
       "4891            0.0                 0.0         0.0     0.0         0.0  \n",
       "4892            0.0                 0.0         0.0     1.0         0.0  \n",
       "4893            0.0                 0.0         0.0     1.0         1.0  \n",
       "\n",
       "[4894 rows x 20 columns]"
      ]
     },
     "execution_count": 25,
     "metadata": {},
     "output_type": "execute_result"
    }
   ],
   "source": [
    "data_sec"
   ]
  },
  {
   "cell_type": "code",
   "execution_count": 26,
   "id": "4bad6824-91b1-40c1-a61a-b1173d95c2ee",
   "metadata": {},
   "outputs": [],
   "source": [
    "data_sec.drop(columns=['ID'], inplace=True)"
   ]
  },
  {
   "cell_type": "code",
   "execution_count": null,
   "id": "227ed4a2-58b1-4283-ae34-6500a56ab50e",
   "metadata": {},
   "outputs": [],
   "source": [
    "data_sec"
   ]
  },
  {
   "cell_type": "markdown",
   "id": "3f236436-521c-4e56-bbee-ac0d96f41484",
   "metadata": {},
   "source": [
    "# DEFINE Dependent And Independent Variable and splitt data X and y train and test"
   ]
  },
  {
   "cell_type": "code",
   "execution_count": 27,
   "id": "0b022b9a-a34b-432c-806f-33683f68d667",
   "metadata": {},
   "outputs": [],
   "source": [
    "X=data_sec.drop('Personal Loan',axis=1)\n",
    "Y=data_sec['Personal Loan']"
   ]
  },
  {
   "cell_type": "code",
   "execution_count": 28,
   "id": "2b341783-3d7b-41a2-80cb-7c08611e36a4",
   "metadata": {},
   "outputs": [
    {
     "data": {
      "text/html": [
       "<div>\n",
       "<style scoped>\n",
       "    .dataframe tbody tr th:only-of-type {\n",
       "        vertical-align: middle;\n",
       "    }\n",
       "\n",
       "    .dataframe tbody tr th {\n",
       "        vertical-align: top;\n",
       "    }\n",
       "\n",
       "    .dataframe thead th {\n",
       "        text-align: right;\n",
       "    }\n",
       "</style>\n",
       "<table border=\"1\" class=\"dataframe\">\n",
       "  <thead>\n",
       "    <tr style=\"text-align: right;\">\n",
       "      <th></th>\n",
       "      <th>Female</th>\n",
       "      <th>Male</th>\n",
       "      <th>Other</th>\n",
       "      <th>Home Mortage</th>\n",
       "      <th>Home Owner</th>\n",
       "      <th>Rent</th>\n",
       "      <th>Age</th>\n",
       "      <th>Experience</th>\n",
       "      <th>Income</th>\n",
       "      <th>ZIP Code</th>\n",
       "      <th>Family</th>\n",
       "      <th>CCAvg</th>\n",
       "      <th>Education</th>\n",
       "      <th>Mortgage</th>\n",
       "      <th>Securities Account</th>\n",
       "      <th>CD Account</th>\n",
       "      <th>Online</th>\n",
       "      <th>CreditCard</th>\n",
       "    </tr>\n",
       "  </thead>\n",
       "  <tbody>\n",
       "    <tr>\n",
       "      <th>count</th>\n",
       "      <td>4894.000000</td>\n",
       "      <td>4894.000000</td>\n",
       "      <td>4894.000000</td>\n",
       "      <td>4894.000000</td>\n",
       "      <td>4894.000000</td>\n",
       "      <td>4894.000000</td>\n",
       "      <td>4894.000000</td>\n",
       "      <td>4894.000000</td>\n",
       "      <td>4894.000000</td>\n",
       "      <td>4894.000000</td>\n",
       "      <td>4894.000000</td>\n",
       "      <td>4894.000000</td>\n",
       "      <td>4894.000000</td>\n",
       "      <td>4894.000000</td>\n",
       "      <td>4894.000000</td>\n",
       "      <td>4894.000000</td>\n",
       "      <td>4894.000000</td>\n",
       "      <td>4894.000000</td>\n",
       "    </tr>\n",
       "    <tr>\n",
       "      <th>mean</th>\n",
       "      <td>0.318758</td>\n",
       "      <td>0.663057</td>\n",
       "      <td>0.018186</td>\n",
       "      <td>0.582141</td>\n",
       "      <td>0.229669</td>\n",
       "      <td>0.188190</td>\n",
       "      <td>45.351451</td>\n",
       "      <td>20.127707</td>\n",
       "      <td>72.173273</td>\n",
       "      <td>93160.882509</td>\n",
       "      <td>2.387413</td>\n",
       "      <td>1.892675</td>\n",
       "      <td>1.872701</td>\n",
       "      <td>54.786882</td>\n",
       "      <td>0.104618</td>\n",
       "      <td>0.054352</td>\n",
       "      <td>0.596240</td>\n",
       "      <td>0.292195</td>\n",
       "    </tr>\n",
       "    <tr>\n",
       "      <th>std</th>\n",
       "      <td>0.466042</td>\n",
       "      <td>0.472714</td>\n",
       "      <td>0.133636</td>\n",
       "      <td>0.493257</td>\n",
       "      <td>0.420663</td>\n",
       "      <td>0.390903</td>\n",
       "      <td>11.453828</td>\n",
       "      <td>11.410724</td>\n",
       "      <td>44.958411</td>\n",
       "      <td>1753.519711</td>\n",
       "      <td>1.146126</td>\n",
       "      <td>1.693399</td>\n",
       "      <td>0.839902</td>\n",
       "      <td>96.297429</td>\n",
       "      <td>0.306092</td>\n",
       "      <td>0.226735</td>\n",
       "      <td>0.490701</td>\n",
       "      <td>0.454818</td>\n",
       "    </tr>\n",
       "    <tr>\n",
       "      <th>min</th>\n",
       "      <td>0.000000</td>\n",
       "      <td>0.000000</td>\n",
       "      <td>0.000000</td>\n",
       "      <td>0.000000</td>\n",
       "      <td>0.000000</td>\n",
       "      <td>0.000000</td>\n",
       "      <td>25.000000</td>\n",
       "      <td>0.000000</td>\n",
       "      <td>9.000000</td>\n",
       "      <td>90024.000000</td>\n",
       "      <td>1.000000</td>\n",
       "      <td>0.000000</td>\n",
       "      <td>1.000000</td>\n",
       "      <td>0.000000</td>\n",
       "      <td>0.000000</td>\n",
       "      <td>0.000000</td>\n",
       "      <td>0.000000</td>\n",
       "      <td>0.000000</td>\n",
       "    </tr>\n",
       "    <tr>\n",
       "      <th>25%</th>\n",
       "      <td>0.000000</td>\n",
       "      <td>0.000000</td>\n",
       "      <td>0.000000</td>\n",
       "      <td>0.000000</td>\n",
       "      <td>0.000000</td>\n",
       "      <td>0.000000</td>\n",
       "      <td>35.000000</td>\n",
       "      <td>10.000000</td>\n",
       "      <td>38.000000</td>\n",
       "      <td>91911.000000</td>\n",
       "      <td>1.000000</td>\n",
       "      <td>0.700000</td>\n",
       "      <td>1.000000</td>\n",
       "      <td>0.000000</td>\n",
       "      <td>0.000000</td>\n",
       "      <td>0.000000</td>\n",
       "      <td>0.000000</td>\n",
       "      <td>0.000000</td>\n",
       "    </tr>\n",
       "    <tr>\n",
       "      <th>50%</th>\n",
       "      <td>0.000000</td>\n",
       "      <td>1.000000</td>\n",
       "      <td>0.000000</td>\n",
       "      <td>1.000000</td>\n",
       "      <td>0.000000</td>\n",
       "      <td>0.000000</td>\n",
       "      <td>45.000000</td>\n",
       "      <td>20.000000</td>\n",
       "      <td>63.000000</td>\n",
       "      <td>93407.000000</td>\n",
       "      <td>2.000000</td>\n",
       "      <td>1.500000</td>\n",
       "      <td>2.000000</td>\n",
       "      <td>0.000000</td>\n",
       "      <td>0.000000</td>\n",
       "      <td>0.000000</td>\n",
       "      <td>1.000000</td>\n",
       "      <td>0.000000</td>\n",
       "    </tr>\n",
       "    <tr>\n",
       "      <th>75%</th>\n",
       "      <td>1.000000</td>\n",
       "      <td>1.000000</td>\n",
       "      <td>0.000000</td>\n",
       "      <td>1.000000</td>\n",
       "      <td>0.000000</td>\n",
       "      <td>0.000000</td>\n",
       "      <td>55.000000</td>\n",
       "      <td>30.000000</td>\n",
       "      <td>93.000000</td>\n",
       "      <td>94608.000000</td>\n",
       "      <td>3.000000</td>\n",
       "      <td>2.500000</td>\n",
       "      <td>3.000000</td>\n",
       "      <td>100.000000</td>\n",
       "      <td>0.000000</td>\n",
       "      <td>0.000000</td>\n",
       "      <td>1.000000</td>\n",
       "      <td>1.000000</td>\n",
       "    </tr>\n",
       "    <tr>\n",
       "      <th>max</th>\n",
       "      <td>1.000000</td>\n",
       "      <td>1.000000</td>\n",
       "      <td>1.000000</td>\n",
       "      <td>1.000000</td>\n",
       "      <td>1.000000</td>\n",
       "      <td>1.000000</td>\n",
       "      <td>65.000000</td>\n",
       "      <td>41.000000</td>\n",
       "      <td>193.000000</td>\n",
       "      <td>95929.000000</td>\n",
       "      <td>4.000000</td>\n",
       "      <td>7.900000</td>\n",
       "      <td>3.000000</td>\n",
       "      <td>428.000000</td>\n",
       "      <td>1.000000</td>\n",
       "      <td>1.000000</td>\n",
       "      <td>1.000000</td>\n",
       "      <td>1.000000</td>\n",
       "    </tr>\n",
       "  </tbody>\n",
       "</table>\n",
       "</div>"
      ],
      "text/plain": [
       "            Female         Male        Other  Home Mortage   Home Owner  \\\n",
       "count  4894.000000  4894.000000  4894.000000   4894.000000  4894.000000   \n",
       "mean      0.318758     0.663057     0.018186      0.582141     0.229669   \n",
       "std       0.466042     0.472714     0.133636      0.493257     0.420663   \n",
       "min       0.000000     0.000000     0.000000      0.000000     0.000000   \n",
       "25%       0.000000     0.000000     0.000000      0.000000     0.000000   \n",
       "50%       0.000000     1.000000     0.000000      1.000000     0.000000   \n",
       "75%       1.000000     1.000000     0.000000      1.000000     0.000000   \n",
       "max       1.000000     1.000000     1.000000      1.000000     1.000000   \n",
       "\n",
       "              Rent          Age   Experience       Income      ZIP Code  \\\n",
       "count  4894.000000  4894.000000  4894.000000  4894.000000   4894.000000   \n",
       "mean      0.188190    45.351451    20.127707    72.173273  93160.882509   \n",
       "std       0.390903    11.453828    11.410724    44.958411   1753.519711   \n",
       "min       0.000000    25.000000     0.000000     9.000000  90024.000000   \n",
       "25%       0.000000    35.000000    10.000000    38.000000  91911.000000   \n",
       "50%       0.000000    45.000000    20.000000    63.000000  93407.000000   \n",
       "75%       0.000000    55.000000    30.000000    93.000000  94608.000000   \n",
       "max       1.000000    65.000000    41.000000   193.000000  95929.000000   \n",
       "\n",
       "            Family        CCAvg    Education     Mortgage  Securities Account  \\\n",
       "count  4894.000000  4894.000000  4894.000000  4894.000000         4894.000000   \n",
       "mean      2.387413     1.892675     1.872701    54.786882            0.104618   \n",
       "std       1.146126     1.693399     0.839902    96.297429            0.306092   \n",
       "min       1.000000     0.000000     1.000000     0.000000            0.000000   \n",
       "25%       1.000000     0.700000     1.000000     0.000000            0.000000   \n",
       "50%       2.000000     1.500000     2.000000     0.000000            0.000000   \n",
       "75%       3.000000     2.500000     3.000000   100.000000            0.000000   \n",
       "max       4.000000     7.900000     3.000000   428.000000            1.000000   \n",
       "\n",
       "        CD Account       Online   CreditCard  \n",
       "count  4894.000000  4894.000000  4894.000000  \n",
       "mean      0.054352     0.596240     0.292195  \n",
       "std       0.226735     0.490701     0.454818  \n",
       "min       0.000000     0.000000     0.000000  \n",
       "25%       0.000000     0.000000     0.000000  \n",
       "50%       0.000000     1.000000     0.000000  \n",
       "75%       0.000000     1.000000     1.000000  \n",
       "max       1.000000     1.000000     1.000000  "
      ]
     },
     "execution_count": 28,
     "metadata": {},
     "output_type": "execute_result"
    }
   ],
   "source": [
    "X.describe()"
   ]
  },
  {
   "cell_type": "code",
   "execution_count": 29,
   "id": "93049547-b41d-4966-9627-e676501d59d1",
   "metadata": {},
   "outputs": [],
   "source": [
    "from sklearn.model_selection import train_test_split\n",
    "# splitt dataset in train and test\n",
    "X_train,X_test,Y_train,Y_test = train_test_split(X,Y,test_size=0.2,random_state=42)"
   ]
  },
  {
   "cell_type": "markdown",
   "id": "dbda42c4-76f9-4ed9-bc68-5c9f90009c11",
   "metadata": {},
   "source": [
    "FEATURE SCALING using Standardization"
   ]
  },
  {
   "cell_type": "code",
   "execution_count": 30,
   "id": "8ced9acf-0b85-4bcd-be77-668b5f686f41",
   "metadata": {},
   "outputs": [],
   "source": [
    "# Feature Scaling Using Standardization\n",
    "from sklearn.preprocessing import StandardScaler\n",
    "sc =StandardScaler()\n",
    "# featuring scaling (standardization) for train dataset\n",
    "X_train.iloc[:,[6, 7, 8, 9, 10,11, 12,13]] = sc.fit_transform(X_train.iloc[:,[6, 7, 8, 9, 10,11, 12,13]])\n",
    "\n",
    "# featuring scaling (standardization) for test dataset\n",
    "X_test.iloc[:,[6, 7, 8, 9, 10,11, 12,13]] = sc.transform(X_test.iloc[:,[6, 7, 8, 9, 10,11, 12,13]])"
   ]
  },
  {
   "cell_type": "code",
   "execution_count": null,
   "id": "09eaba20-dd9b-4478-bbf8-b62e8a842992",
   "metadata": {},
   "outputs": [],
   "source": [
    "X_train.describe()"
   ]
  },
  {
   "cell_type": "code",
   "execution_count": 31,
   "id": "b149651a-e72c-4cdb-8549-90baf74358c8",
   "metadata": {},
   "outputs": [
    {
     "data": {
      "text/plain": [
       "((3915, 11), (979, 11))"
      ]
     },
     "execution_count": 31,
     "metadata": {},
     "output_type": "execute_result"
    }
   ],
   "source": [
    "# Pca perform for feature selection \n",
    "from sklearn.decomposition import PCA\n",
    "pca =PCA(0.95)\n",
    "X_train_pca=pca.fit_transform(X_train)\n",
    "X_test_pca=pca.transform(X_test)\n",
    "# dtf =pd.DataFrame(X_pca,columns=data.columns)\n",
    "X_train_pca.shape,X_test_pca.shape"
   ]
  },
  {
   "cell_type": "markdown",
   "id": "a179cdf8-cb1e-4d17-96d9-e64afdfbedd9",
   "metadata": {},
   "source": [
    "MODEL TRAIN AND TEST"
   ]
  },
  {
   "cell_type": "code",
   "execution_count": 37,
   "id": "c2aaef0f-b0ed-4864-8b8f-c829edcdc648",
   "metadata": {},
   "outputs": [],
   "source": [
    "from sklearn.linear_model import LogisticRegression\n",
    "from sklearn.svm import SVC\n",
    "from sklearn.tree import DecisionTreeClassifier\n",
    "from sklearn.ensemble import RandomForestClassifier\n",
    "from sklearn.metrics import accuracy_score, precision_score, recall_score\n",
    "from sklearn.model_selection import cross_val_score\n",
    "import joblib \n",
    "\n",
    "def Train_Test_Model(model,X_train,Y_train,X_test,Y_test,X,Y):\n",
    "    model.fit(X_train,Y_train)\n",
    "    pre=model.predict(X_test)\n",
    "    acc=accuracy_score(Y_test,pre)\n",
    "    scor=cross_val_score(model,X,Y,cv=5)\n",
    "    crossscor =np.mean(scor)*100\n",
    "    precision = precision_score(Y_test, pre)\n",
    "    recall = recall_score(Y_test, pre)\n",
    "    # joblib.dump(model,f'{model}_SAVED_Trained_MODELL')\n",
    "    joblib.dump(model,f'../resources/model/{model}_SAVED_Trained_MODELL')\n",
    "    return crossscor,acc,precision,recall"
   ]
  },
  {
   "cell_type": "code",
   "execution_count": 38,
   "id": "8ba5b2d8-a704-484c-bec5-8cdb6d5ee34b",
   "metadata": {
    "scrolled": true
   },
   "outputs": [],
   "source": [
    "# using different model\n",
    "model =[LogisticRegression(),SVC(),DecisionTreeClassifier(),RandomForestClassifier()]\n",
    "accuracy_array = []\n",
    "for m in model:\n",
    "    crossscor,acc,precision,recall =Train_Test_Model(m,X_train_pca,Y_train,X_test_pca,Y_test,X_train_pca,Y_train)\n",
    "    accuracy_array.append((m,crossscor,acc,precision,recall))"
   ]
  },
  {
   "cell_type": "code",
   "execution_count": 39,
   "id": "326bb02a-cbcd-4fbc-ba3a-8b2382e78693",
   "metadata": {},
   "outputs": [
    {
     "data": {
      "text/plain": [
       "[(LogisticRegression(),\n",
       "  95.5044699872286,\n",
       "  0.9540347293156282,\n",
       "  0.6875,\n",
       "  0.5238095238095238),\n",
       " (SVC(),\n",
       "  97.42017879948915,\n",
       "  0.9795709908069459,\n",
       "  0.9574468085106383,\n",
       "  0.7142857142857143),\n",
       " (DecisionTreeClassifier(),\n",
       "  94.55938697318007,\n",
       "  0.9601634320735445,\n",
       "  0.6935483870967742,\n",
       "  0.6825396825396826),\n",
       " (RandomForestClassifier(),\n",
       "  96.42401021711366,\n",
       "  0.9713993871297242,\n",
       "  0.8888888888888888,\n",
       "  0.6349206349206349)]"
      ]
     },
     "execution_count": 39,
     "metadata": {},
     "output_type": "execute_result"
    }
   ],
   "source": [
    "accuracy_array"
   ]
  },
  {
   "cell_type": "markdown",
   "id": "7b4a0385-15ce-4eaf-8702-df5c1585d46e",
   "metadata": {},
   "source": [
    "Hyper parameter Tunning"
   ]
  },
  {
   "cell_type": "code",
   "execution_count": null,
   "id": "324307e4-2812-4851-9273-23cf87ba56fc",
   "metadata": {},
   "outputs": [],
   "source": [
    "from sklearn.model_selection import RandomizedSearchCV\n",
    "logistic_params = {\n",
    "    'C': np.logspace(-4,4,20),\n",
    "    'solver': ['liblinear']\n",
    "}\n",
    "svm_params = {\n",
    "    'C': [0.1, 1, 10],\n",
    "    'kernel': ['linear', 'rbf', 'poly'],\n",
    "    'gamma': ['scale', 'auto']\n",
    "}\n",
    "rf_params = {\n",
    "    'n_estimators': [50, 100, 200],\n",
    "    'max_depth': [None, 10, 20],\n",
    "    'min_samples_split': [2, 5, 10],\n",
    "    'min_samples_leaf': [1, 2, 4]\n",
    "}\n",
    "decision_tree_params = {\n",
    "    'max_depth': [None, 10, 20],\n",
    "    'min_samples_split': [2, 5, 10],\n",
    "    'min_samples_leaf': [1, 2, 4],\n",
    "    'criterion': ['gini', 'entropy']\n",
    "}\n",
    "models =[(LogisticRegression(),logistic_params),(SVC(),svm_params),(RandomForestClassifier(),rf_params),(DecisionTreeClassifier(),decision_tree_params)]\n",
    "best_array =[]\n",
    "for model, params in models:\n",
    "    hyper = RandomizedSearchCV(model, params, n_iter=18, cv=5, scoring='accuracy', random_state=42)\n",
    "    hyper.fit(X_train_pca, Y_train)\n",
    "    best_para=hyper.best_params_\n",
    "    best_array.append((model,best_para))"
   ]
  },
  {
   "cell_type": "code",
   "execution_count": null,
   "id": "7b534c33-0546-447f-b824-eb1450cd9eb5",
   "metadata": {},
   "outputs": [],
   "source": [
    "best_array"
   ]
  },
  {
   "cell_type": "code",
   "execution_count": null,
   "id": "4ec498c8-0878-46e9-a04f-ecfe81033d4e",
   "metadata": {},
   "outputs": [],
   "source": [
    "new_model =[LogisticRegression(C=1.623776739188721,solver='liblinear'),SVC(C =10, kernel ='rbf', gamma='auto'),DecisionTreeClassifier(min_samples_split=5,min_samples_leaf=4,max_depth = 20,criterion='entropy'),RandomForestClassifier(n_estimators=100, min_samples_split=5, min_samples_leaf=1, max_depth=None)]\n",
    "# using different model\n",
    "accuracy_arrays = []\n",
    "for m in new_model:\n",
    "    crossscor,acc,precision,recall =Train_Test_Model(m,X_train_pca,Y_train,X_test_pca,Y_test,X_train_pca,Y_train)\n",
    "    accuracy_arrays.append((m,crossscor,acc,precision,recall))"
   ]
  },
  {
   "cell_type": "code",
   "execution_count": null,
   "id": "00c2ab5a-7ba9-426d-8b77-a277508ceaa1",
   "metadata": {},
   "outputs": [],
   "source": [
    "accuracy_arrays"
   ]
  },
  {
   "cell_type": "code",
   "execution_count": null,
   "id": "121217bd-7784-4afd-80dc-aa98ef5b5802",
   "metadata": {},
   "outputs": [],
   "source": [
    "import joblib\n",
    "import pandas as pd\n",
    "saved_model = joblib.load('DecisionTreeClassifier(min_samples_leaf=2)_SAVED_Trained_MODEL')"
   ]
  },
  {
   "cell_type": "code",
   "execution_count": null,
   "id": "5f7c1701-0a8e-4e5b-b6c1-47139fae693b",
   "metadata": {},
   "outputs": [],
   "source": [
    "testing_frame=pd.DataFrame({\n",
    "    'Female':0,\n",
    "    'Male':1,\n",
    "    'Other':0,\n",
    "    'Home Mortage':0,\n",
    "    'Home Owner':0,\n",
    "    'Rent':1,\n",
    "    'Age':0.044510,\n",
    "    'Experience':1.200638,\n",
    "    'Income':1.007935,\n",
    "    'Family':-0.337889,\n",
    "    'CCAvg':1.544383,\n",
    "    'Education':1.0,\n",
    "    'Mortgage':-0.568194,\n",
    "    'Securities Account':0.0,\n",
    "    'CD Account':0.0,\n",
    "    'Online':0.0,\n",
    "    'CreditCard':0.0\n",
    "                  },index=[0])"
   ]
  },
  {
   "cell_type": "code",
   "execution_count": null,
   "id": "dd0ea46a-6cf6-404d-a86c-3bf6d5a7bded",
   "metadata": {},
   "outputs": [],
   "source": [
    "testing_frame"
   ]
  },
  {
   "cell_type": "code",
   "execution_count": null,
   "id": "90a009a8-19a7-42cf-9a96-983c1939de44",
   "metadata": {},
   "outputs": [],
   "source": [
    "saved_model.predict(testing_frame)"
   ]
  },
  {
   "cell_type": "code",
   "execution_count": null,
   "id": "02ea967f-0dfa-46b0-906f-6dd91bff20e2",
   "metadata": {},
   "outputs": [],
   "source": [
    "X_test"
   ]
  },
  {
   "cell_type": "code",
   "execution_count": null,
   "id": "79a08122-6d49-434b-accb-6dd8fd9e3de9",
   "metadata": {},
   "outputs": [],
   "source": [
    "Y_test"
   ]
  }
 ],
 "metadata": {
  "kernelspec": {
   "display_name": "Python 3 (ipykernel)",
   "language": "python",
   "name": "python3"
  },
  "language_info": {
   "codemirror_mode": {
    "name": "ipython",
    "version": 3
   },
   "file_extension": ".py",
   "mimetype": "text/x-python",
   "name": "python",
   "nbconvert_exporter": "python",
   "pygments_lexer": "ipython3",
   "version": "3.11.5"
  }
 },
 "nbformat": 4,
 "nbformat_minor": 5
}
